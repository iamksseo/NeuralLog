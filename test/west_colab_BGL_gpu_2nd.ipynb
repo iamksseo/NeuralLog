{
  "cells": [
    {
      "cell_type": "markdown",
      "metadata": {
        "id": "view-in-github",
        "colab_type": "text"
      },
      "source": [
        "<a href=\"https://colab.research.google.com/github/iamksseo/NeuralLog/blob/main/test/west_colab_BGL_gpu_2nd.ipynb\" target=\"_parent\"><img src=\"https://colab.research.google.com/assets/colab-badge.svg\" alt=\"Open In Colab\"/></a>"
      ]
    },
    {
      "cell_type": "markdown",
      "source": [
        "```\n",
        "@inproceedings{le2021log,\n",
        "  title={Log-based anomaly detection without log parsing},\n",
        "  author={Le, Van-Hoang and Zhang, Hongyu},\n",
        "  booktitle={2021 36th IEEE/ACM International Conference on Automated Software Engineering (ASE)},\n",
        "  pages={492--504},\n",
        "  year={2021},\n",
        "  organization={IEEE}\n",
        "}\n",
        "\n",
        "@INPROCEEDINGS{9534113,\n",
        "  author={Guo, Haixuan and Yuan, Shuhan and Wu, Xintao},\n",
        "  booktitle={2021 International Joint Conference on Neural Networks (IJCNN)}, \n",
        "  title={LogBERT: Log Anomaly Detection via BERT}, \n",
        "  year={2021},\n",
        "  volume={},\n",
        "  number={},\n",
        "  pages={1-8},\n",
        "  doi={10.1109/IJCNN52387.2021.9534113}\n",
        "}\n",
        "```"
      ],
      "metadata": {
        "id": "tEY4vn6nGn3p"
      },
      "id": "tEY4vn6nGn3p"
    },
    {
      "cell_type": "markdown",
      "source": [
        "### Setup env (runtime=TPU)\n",
        "\n",
        "* make `upload_colab.tar.gz` in local\n",
        "```\n",
        "git clone https://github.com/iamksseo/NeuralLog.git\n",
        "tar cvfz upload_colab.tar.gz NeuralLog/neurallog NeuralLog/demo NeuralLog/requirements_colab_0826.txt\n",
        "```\n",
        "\n",
        "* Upload the zipped file to colab session storage"
      ],
      "metadata": {
        "id": "JuFy3l3v2Hr0"
      },
      "id": "JuFy3l3v2Hr0"
    },
    {
      "cell_type": "markdown",
      "source": [
        "* Setup `NeuralLog` in colab env"
      ],
      "metadata": {
        "id": "bZoynFUb2fL5"
      },
      "id": "bZoynFUb2fL5"
    },
    {
      "cell_type": "code",
      "source": [
        "!tar xvfz upload_colab.tar.gz"
      ],
      "metadata": {
        "id": "H95fR7AA2ACK",
        "outputId": "f3195a32-9908-497c-e096-12ca1ac3cdff",
        "colab": {
          "base_uri": "https://localhost:8080/"
        }
      },
      "id": "H95fR7AA2ACK",
      "execution_count": 1,
      "outputs": [
        {
          "output_type": "stream",
          "name": "stdout",
          "text": [
            "NeuralLog/neurallog/\n",
            "NeuralLog/neurallog/data_loader.py\n",
            "NeuralLog/neurallog/models/\n",
            "NeuralLog/neurallog/models/log2vec.py\n",
            "NeuralLog/neurallog/models/logrobust.py\n",
            "NeuralLog/neurallog/models/positional_encodings.py\n",
            "NeuralLog/neurallog/models/transformers.py\n",
            "NeuralLog/neurallog/models/__init__.py\n",
            "NeuralLog/neurallog/utils.py\n",
            "NeuralLog/neurallog/__init__.py\n",
            "NeuralLog/demo/\n",
            "NeuralLog/demo/NeuralLog.py\n",
            "NeuralLog/demo/Transformer_based_Classification.ipynb\n",
            "NeuralLog/requirements_colab_0826.txt\n"
          ]
        }
      ]
    },
    {
      "cell_type": "markdown",
      "source": [
        "* get BGL dataset"
      ],
      "metadata": {
        "id": "w1DIjTiy3snX"
      },
      "id": "w1DIjTiy3snX"
    },
    {
      "cell_type": "code",
      "execution_count": 2,
      "id": "36a722fb",
      "metadata": {
        "id": "36a722fb",
        "outputId": "02a0a9c4-97b2-4a24-c1c5-475c0b264c2b",
        "colab": {
          "base_uri": "https://localhost:8080/"
        }
      },
      "outputs": [
        {
          "output_type": "stream",
          "name": "stdout",
          "text": [
            "--2022-08-26 06:51:40--  https://zenodo.org/record/3227177/files/BGL.tar.gz\n",
            "Resolving zenodo.org (zenodo.org)... 137.138.76.77\n",
            "Connecting to zenodo.org (zenodo.org)|137.138.76.77|:443... connected.\n",
            "HTTP request sent, awaiting response... 200 OK\n",
            "Length: 62936967 (60M) [application/octet-stream]\n",
            "Saving to: ‘BGL.tar.gz’\n",
            "\n",
            "BGL.tar.gz          100%[===================>]  60.02M  8.40MB/s    in 7.7s    \n",
            "\n",
            "2022-08-26 06:51:50 (7.84 MB/s) - ‘BGL.tar.gz’ saved [62936967/62936967]\n",
            "\n",
            "BGL.log\n"
          ]
        }
      ],
      "source": [
        "!wget https://zenodo.org/record/3227177/files/BGL.tar.gz && tar -xvzf BGL.tar.gz\n",
        "!mkdir NeuralLog/logs && mv BGL.log NeuralLog/logs/."
      ]
    },
    {
      "cell_type": "code",
      "source": [
        "%cd /content/NeuralLog"
      ],
      "metadata": {
        "id": "qmWiP4sq23EI",
        "outputId": "c411828e-d048-4ea2-d80f-bf289543d86f",
        "colab": {
          "base_uri": "https://localhost:8080/"
        }
      },
      "id": "qmWiP4sq23EI",
      "execution_count": 3,
      "outputs": [
        {
          "output_type": "stream",
          "name": "stdout",
          "text": [
            "/content/NeuralLog\n"
          ]
        }
      ]
    },
    {
      "cell_type": "code",
      "source": [
        "!pip install -r requirements_colab_0826.txt"
      ],
      "metadata": {
        "id": "z55ho7BB2N6v",
        "outputId": "ebcb2670-aecd-443a-eb80-45c423e5e624",
        "colab": {
          "base_uri": "https://localhost:8080/",
          "height": 1000
        }
      },
      "id": "z55ho7BB2N6v",
      "execution_count": 4,
      "outputs": [
        {
          "output_type": "stream",
          "name": "stdout",
          "text": [
            "Looking in indexes: https://pypi.org/simple, https://us-python.pkg.dev/colab-wheels/public/simple/\n",
            "Requirement already satisfied: numpy>=1.19.5 in /usr/local/lib/python3.7/dist-packages (from -r requirements_colab_0826.txt (line 1)) (1.21.6)\n",
            "Requirement already satisfied: scikit-learn>=0.24.2 in /usr/local/lib/python3.7/dist-packages (from -r requirements_colab_0826.txt (line 2)) (1.0.2)\n",
            "Collecting transformers~=4.19.4\n",
            "  Downloading transformers-4.19.4-py3-none-any.whl (4.2 MB)\n",
            "\u001b[K     |████████████████████████████████| 4.2 MB 31.4 MB/s \n",
            "\u001b[?25hCollecting tensorflow~=2.4.4\n",
            "  Downloading tensorflow-2.4.4-cp37-cp37m-manylinux2010_x86_64.whl (394.5 MB)\n",
            "\u001b[K     |████████████████████████████████| 394.5 MB 44 kB/s \n",
            "\u001b[?25hCollecting tf-models-official~=2.4.0\n",
            "  Downloading tf_models_official-2.4.0-py2.py3-none-any.whl (1.1 MB)\n",
            "\u001b[K     |████████████████████████████████| 1.1 MB 55.8 MB/s \n",
            "\u001b[?25hRequirement already satisfied: pandas>=1.3.5 in /usr/local/lib/python3.7/dist-packages (from -r requirements_colab_0826.txt (line 6)) (1.3.5)\n",
            "Requirement already satisfied: scipy>=1.1.0 in /usr/local/lib/python3.7/dist-packages (from scikit-learn>=0.24.2->-r requirements_colab_0826.txt (line 2)) (1.7.3)\n",
            "Requirement already satisfied: threadpoolctl>=2.0.0 in /usr/local/lib/python3.7/dist-packages (from scikit-learn>=0.24.2->-r requirements_colab_0826.txt (line 2)) (3.1.0)\n",
            "Requirement already satisfied: joblib>=0.11 in /usr/local/lib/python3.7/dist-packages (from scikit-learn>=0.24.2->-r requirements_colab_0826.txt (line 2)) (1.1.0)\n",
            "Requirement already satisfied: importlib-metadata in /usr/local/lib/python3.7/dist-packages (from transformers~=4.19.4->-r requirements_colab_0826.txt (line 3)) (4.12.0)\n",
            "Requirement already satisfied: pyyaml>=5.1 in /usr/local/lib/python3.7/dist-packages (from transformers~=4.19.4->-r requirements_colab_0826.txt (line 3)) (6.0)\n",
            "Requirement already satisfied: packaging>=20.0 in /usr/local/lib/python3.7/dist-packages (from transformers~=4.19.4->-r requirements_colab_0826.txt (line 3)) (21.3)\n",
            "Requirement already satisfied: regex!=2019.12.17 in /usr/local/lib/python3.7/dist-packages (from transformers~=4.19.4->-r requirements_colab_0826.txt (line 3)) (2022.6.2)\n",
            "Requirement already satisfied: filelock in /usr/local/lib/python3.7/dist-packages (from transformers~=4.19.4->-r requirements_colab_0826.txt (line 3)) (3.8.0)\n",
            "Requirement already satisfied: requests in /usr/local/lib/python3.7/dist-packages (from transformers~=4.19.4->-r requirements_colab_0826.txt (line 3)) (2.23.0)\n",
            "Collecting tokenizers!=0.11.3,<0.13,>=0.11.1\n",
            "  Downloading tokenizers-0.12.1-cp37-cp37m-manylinux_2_12_x86_64.manylinux2010_x86_64.whl (6.6 MB)\n",
            "\u001b[K     |████████████████████████████████| 6.6 MB 63.1 MB/s \n",
            "\u001b[?25hRequirement already satisfied: tqdm>=4.27 in /usr/local/lib/python3.7/dist-packages (from transformers~=4.19.4->-r requirements_colab_0826.txt (line 3)) (4.64.0)\n",
            "Collecting huggingface-hub<1.0,>=0.1.0\n",
            "  Downloading huggingface_hub-0.9.1-py3-none-any.whl (120 kB)\n",
            "\u001b[K     |████████████████████████████████| 120 kB 48.0 MB/s \n",
            "\u001b[?25hRequirement already satisfied: protobuf>=3.9.2 in /usr/local/lib/python3.7/dist-packages (from tensorflow~=2.4.4->-r requirements_colab_0826.txt (line 4)) (3.17.3)\n",
            "Collecting gast==0.3.3\n",
            "  Downloading gast-0.3.3-py2.py3-none-any.whl (9.7 kB)\n",
            "Requirement already satisfied: google-pasta~=0.2 in /usr/local/lib/python3.7/dist-packages (from tensorflow~=2.4.4->-r requirements_colab_0826.txt (line 4)) (0.2.0)\n",
            "Requirement already satisfied: wheel~=0.35 in /usr/local/lib/python3.7/dist-packages (from tensorflow~=2.4.4->-r requirements_colab_0826.txt (line 4)) (0.37.1)\n",
            "Requirement already satisfied: opt-einsum~=3.3.0 in /usr/local/lib/python3.7/dist-packages (from tensorflow~=2.4.4->-r requirements_colab_0826.txt (line 4)) (3.3.0)\n",
            "Collecting numpy>=1.19.5\n",
            "  Downloading numpy-1.19.5-cp37-cp37m-manylinux2010_x86_64.whl (14.8 MB)\n",
            "\u001b[K     |████████████████████████████████| 14.8 MB 49.9 MB/s \n",
            "\u001b[?25hCollecting wrapt~=1.12.1\n",
            "  Downloading wrapt-1.12.1.tar.gz (27 kB)\n",
            "Collecting absl-py~=0.10\n",
            "  Downloading absl_py-0.15.0-py3-none-any.whl (132 kB)\n",
            "\u001b[K     |████████████████████████████████| 132 kB 69.0 MB/s \n",
            "\u001b[?25hRequirement already satisfied: astunparse~=1.6.3 in /usr/local/lib/python3.7/dist-packages (from tensorflow~=2.4.4->-r requirements_colab_0826.txt (line 4)) (1.6.3)\n",
            "Collecting typing-extensions~=3.7.4\n",
            "  Downloading typing_extensions-3.7.4.3-py3-none-any.whl (22 kB)\n",
            "Requirement already satisfied: tensorboard~=2.4 in /usr/local/lib/python3.7/dist-packages (from tensorflow~=2.4.4->-r requirements_colab_0826.txt (line 4)) (2.8.0)\n",
            "Requirement already satisfied: six~=1.15.0 in /usr/local/lib/python3.7/dist-packages (from tensorflow~=2.4.4->-r requirements_colab_0826.txt (line 4)) (1.15.0)\n",
            "Collecting tensorflow-estimator<2.5.0,>=2.4.0\n",
            "  Downloading tensorflow_estimator-2.4.0-py2.py3-none-any.whl (462 kB)\n",
            "\u001b[K     |████████████████████████████████| 462 kB 42.1 MB/s \n",
            "\u001b[?25hCollecting flatbuffers~=1.12.0\n",
            "  Downloading flatbuffers-1.12-py2.py3-none-any.whl (15 kB)\n",
            "Collecting grpcio~=1.32.0\n",
            "  Downloading grpcio-1.32.0-cp37-cp37m-manylinux2014_x86_64.whl (3.8 MB)\n",
            "\u001b[K     |████████████████████████████████| 3.8 MB 47.7 MB/s \n",
            "\u001b[?25hCollecting h5py~=2.10.0\n",
            "  Downloading h5py-2.10.0-cp37-cp37m-manylinux1_x86_64.whl (2.9 MB)\n",
            "\u001b[K     |████████████████████████████████| 2.9 MB 58.6 MB/s \n",
            "\u001b[?25hRequirement already satisfied: keras-preprocessing~=1.1.2 in /usr/local/lib/python3.7/dist-packages (from tensorflow~=2.4.4->-r requirements_colab_0826.txt (line 4)) (1.1.2)\n",
            "Requirement already satisfied: termcolor~=1.1.0 in /usr/local/lib/python3.7/dist-packages (from tensorflow~=2.4.4->-r requirements_colab_0826.txt (line 4)) (1.1.0)\n",
            "Collecting py-cpuinfo>=3.3.0\n",
            "  Downloading py-cpuinfo-8.0.0.tar.gz (99 kB)\n",
            "\u001b[K     |████████████████████████████████| 99 kB 11.6 MB/s \n",
            "\u001b[?25hRequirement already satisfied: tensorflow-datasets in /usr/local/lib/python3.7/dist-packages (from tf-models-official~=2.4.0->-r requirements_colab_0826.txt (line 5)) (4.6.0)\n",
            "Collecting seqeval\n",
            "  Downloading seqeval-1.2.2.tar.gz (43 kB)\n",
            "\u001b[K     |████████████████████████████████| 43 kB 1.5 MB/s \n",
            "\u001b[?25hRequirement already satisfied: pycocotools in /usr/local/lib/python3.7/dist-packages (from tf-models-official~=2.4.0->-r requirements_colab_0826.txt (line 5)) (2.0.4)\n",
            "Collecting tensorflow-model-optimization>=0.4.1\n",
            "  Downloading tensorflow_model_optimization-0.7.3-py2.py3-none-any.whl (238 kB)\n",
            "\u001b[K     |████████████████████████████████| 238 kB 64.9 MB/s \n",
            "\u001b[?25hRequirement already satisfied: tensorflow-hub>=0.6.0 in /usr/local/lib/python3.7/dist-packages (from tf-models-official~=2.4.0->-r requirements_colab_0826.txt (line 5)) (0.12.0)\n",
            "Collecting dataclasses\n",
            "  Downloading dataclasses-0.6-py3-none-any.whl (14 kB)\n",
            "Collecting sentencepiece\n",
            "  Downloading sentencepiece-0.1.97-cp37-cp37m-manylinux_2_17_x86_64.manylinux2014_x86_64.whl (1.3 MB)\n",
            "\u001b[K     |████████████████████████████████| 1.3 MB 56.6 MB/s \n",
            "\u001b[?25hRequirement already satisfied: Pillow in /usr/local/lib/python3.7/dist-packages (from tf-models-official~=2.4.0->-r requirements_colab_0826.txt (line 5)) (7.1.2)\n",
            "Requirement already satisfied: oauth2client in /usr/local/lib/python3.7/dist-packages (from tf-models-official~=2.4.0->-r requirements_colab_0826.txt (line 5)) (4.1.3)\n",
            "Requirement already satisfied: psutil>=5.4.3 in /usr/local/lib/python3.7/dist-packages (from tf-models-official~=2.4.0->-r requirements_colab_0826.txt (line 5)) (5.4.8)\n",
            "Collecting tensorflow-addons\n",
            "  Downloading tensorflow_addons-0.17.1-cp37-cp37m-manylinux_2_17_x86_64.manylinux2014_x86_64.whl (1.1 MB)\n",
            "\u001b[K     |████████████████████████████████| 1.1 MB 59.7 MB/s \n",
            "\u001b[?25hRequirement already satisfied: gin-config in /usr/local/lib/python3.7/dist-packages (from tf-models-official~=2.4.0->-r requirements_colab_0826.txt (line 5)) (0.5.0)\n",
            "Requirement already satisfied: Cython in /usr/local/lib/python3.7/dist-packages (from tf-models-official~=2.4.0->-r requirements_colab_0826.txt (line 5)) (0.29.32)\n",
            "Collecting tf-slim>=1.1.0\n",
            "  Downloading tf_slim-1.1.0-py2.py3-none-any.whl (352 kB)\n",
            "\u001b[K     |████████████████████████████████| 352 kB 61.3 MB/s \n",
            "\u001b[?25hRequirement already satisfied: matplotlib in /usr/local/lib/python3.7/dist-packages (from tf-models-official~=2.4.0->-r requirements_colab_0826.txt (line 5)) (3.2.2)\n",
            "Requirement already satisfied: opencv-python-headless in /usr/local/lib/python3.7/dist-packages (from tf-models-official~=2.4.0->-r requirements_colab_0826.txt (line 5)) (4.6.0.66)\n",
            "Requirement already satisfied: google-api-python-client>=1.6.7 in /usr/local/lib/python3.7/dist-packages (from tf-models-official~=2.4.0->-r requirements_colab_0826.txt (line 5)) (1.12.11)\n",
            "Requirement already satisfied: google-cloud-bigquery>=0.31.0 in /usr/local/lib/python3.7/dist-packages (from tf-models-official~=2.4.0->-r requirements_colab_0826.txt (line 5)) (1.21.0)\n",
            "Requirement already satisfied: kaggle>=1.3.9 in /usr/local/lib/python3.7/dist-packages (from tf-models-official~=2.4.0->-r requirements_colab_0826.txt (line 5)) (1.5.12)\n",
            "Requirement already satisfied: python-dateutil>=2.7.3 in /usr/local/lib/python3.7/dist-packages (from pandas>=1.3.5->-r requirements_colab_0826.txt (line 6)) (2.8.2)\n",
            "Requirement already satisfied: pytz>=2017.3 in /usr/local/lib/python3.7/dist-packages (from pandas>=1.3.5->-r requirements_colab_0826.txt (line 6)) (2022.2.1)\n",
            "Requirement already satisfied: google-auth<3dev,>=1.16.0 in /usr/local/lib/python3.7/dist-packages (from google-api-python-client>=1.6.7->tf-models-official~=2.4.0->-r requirements_colab_0826.txt (line 5)) (1.35.0)\n",
            "Requirement already satisfied: uritemplate<4dev,>=3.0.0 in /usr/local/lib/python3.7/dist-packages (from google-api-python-client>=1.6.7->tf-models-official~=2.4.0->-r requirements_colab_0826.txt (line 5)) (3.0.1)\n",
            "Requirement already satisfied: httplib2<1dev,>=0.15.0 in /usr/local/lib/python3.7/dist-packages (from google-api-python-client>=1.6.7->tf-models-official~=2.4.0->-r requirements_colab_0826.txt (line 5)) (0.17.4)\n",
            "Requirement already satisfied: google-auth-httplib2>=0.0.3 in /usr/local/lib/python3.7/dist-packages (from google-api-python-client>=1.6.7->tf-models-official~=2.4.0->-r requirements_colab_0826.txt (line 5)) (0.0.4)\n",
            "Requirement already satisfied: google-api-core<3dev,>=1.21.0 in /usr/local/lib/python3.7/dist-packages (from google-api-python-client>=1.6.7->tf-models-official~=2.4.0->-r requirements_colab_0826.txt (line 5)) (1.31.6)\n",
            "Requirement already satisfied: setuptools>=40.3.0 in /usr/local/lib/python3.7/dist-packages (from google-api-core<3dev,>=1.21.0->google-api-python-client>=1.6.7->tf-models-official~=2.4.0->-r requirements_colab_0826.txt (line 5)) (57.4.0)\n",
            "Requirement already satisfied: googleapis-common-protos<2.0dev,>=1.6.0 in /usr/local/lib/python3.7/dist-packages (from google-api-core<3dev,>=1.21.0->google-api-python-client>=1.6.7->tf-models-official~=2.4.0->-r requirements_colab_0826.txt (line 5)) (1.56.4)\n",
            "Requirement already satisfied: cachetools<5.0,>=2.0.0 in /usr/local/lib/python3.7/dist-packages (from google-auth<3dev,>=1.16.0->google-api-python-client>=1.6.7->tf-models-official~=2.4.0->-r requirements_colab_0826.txt (line 5)) (4.2.4)\n",
            "Requirement already satisfied: pyasn1-modules>=0.2.1 in /usr/local/lib/python3.7/dist-packages (from google-auth<3dev,>=1.16.0->google-api-python-client>=1.6.7->tf-models-official~=2.4.0->-r requirements_colab_0826.txt (line 5)) (0.2.8)\n",
            "Requirement already satisfied: rsa<5,>=3.1.4 in /usr/local/lib/python3.7/dist-packages (from google-auth<3dev,>=1.16.0->google-api-python-client>=1.6.7->tf-models-official~=2.4.0->-r requirements_colab_0826.txt (line 5)) (4.9)\n",
            "Requirement already satisfied: google-resumable-media!=0.4.0,<0.5.0dev,>=0.3.1 in /usr/local/lib/python3.7/dist-packages (from google-cloud-bigquery>=0.31.0->tf-models-official~=2.4.0->-r requirements_colab_0826.txt (line 5)) (0.4.1)\n",
            "Requirement already satisfied: google-cloud-core<2.0dev,>=1.0.3 in /usr/local/lib/python3.7/dist-packages (from google-cloud-bigquery>=0.31.0->tf-models-official~=2.4.0->-r requirements_colab_0826.txt (line 5)) (1.0.3)\n",
            "Requirement already satisfied: python-slugify in /usr/local/lib/python3.7/dist-packages (from kaggle>=1.3.9->tf-models-official~=2.4.0->-r requirements_colab_0826.txt (line 5)) (6.1.2)\n",
            "Requirement already satisfied: certifi in /usr/local/lib/python3.7/dist-packages (from kaggle>=1.3.9->tf-models-official~=2.4.0->-r requirements_colab_0826.txt (line 5)) (2022.6.15)\n",
            "Requirement already satisfied: urllib3 in /usr/local/lib/python3.7/dist-packages (from kaggle>=1.3.9->tf-models-official~=2.4.0->-r requirements_colab_0826.txt (line 5)) (1.24.3)\n",
            "Requirement already satisfied: pyparsing!=3.0.5,>=2.0.2 in /usr/local/lib/python3.7/dist-packages (from packaging>=20.0->transformers~=4.19.4->-r requirements_colab_0826.txt (line 3)) (3.0.9)\n",
            "Requirement already satisfied: pyasn1<0.5.0,>=0.4.6 in /usr/local/lib/python3.7/dist-packages (from pyasn1-modules>=0.2.1->google-auth<3dev,>=1.16.0->google-api-python-client>=1.6.7->tf-models-official~=2.4.0->-r requirements_colab_0826.txt (line 5)) (0.4.8)\n",
            "Requirement already satisfied: idna<3,>=2.5 in /usr/local/lib/python3.7/dist-packages (from requests->transformers~=4.19.4->-r requirements_colab_0826.txt (line 3)) (2.10)\n",
            "Requirement already satisfied: chardet<4,>=3.0.2 in /usr/local/lib/python3.7/dist-packages (from requests->transformers~=4.19.4->-r requirements_colab_0826.txt (line 3)) (3.0.4)\n",
            "Requirement already satisfied: tensorboard-plugin-wit>=1.6.0 in /usr/local/lib/python3.7/dist-packages (from tensorboard~=2.4->tensorflow~=2.4.4->-r requirements_colab_0826.txt (line 4)) (1.8.1)\n",
            "Requirement already satisfied: werkzeug>=0.11.15 in /usr/local/lib/python3.7/dist-packages (from tensorboard~=2.4->tensorflow~=2.4.4->-r requirements_colab_0826.txt (line 4)) (1.0.1)\n",
            "Requirement already satisfied: tensorboard-data-server<0.7.0,>=0.6.0 in /usr/local/lib/python3.7/dist-packages (from tensorboard~=2.4->tensorflow~=2.4.4->-r requirements_colab_0826.txt (line 4)) (0.6.1)\n",
            "Requirement already satisfied: google-auth-oauthlib<0.5,>=0.4.1 in /usr/local/lib/python3.7/dist-packages (from tensorboard~=2.4->tensorflow~=2.4.4->-r requirements_colab_0826.txt (line 4)) (0.4.6)\n",
            "Requirement already satisfied: markdown>=2.6.8 in /usr/local/lib/python3.7/dist-packages (from tensorboard~=2.4->tensorflow~=2.4.4->-r requirements_colab_0826.txt (line 4)) (3.4.1)\n",
            "Requirement already satisfied: requests-oauthlib>=0.7.0 in /usr/local/lib/python3.7/dist-packages (from google-auth-oauthlib<0.5,>=0.4.1->tensorboard~=2.4->tensorflow~=2.4.4->-r requirements_colab_0826.txt (line 4)) (1.3.1)\n",
            "Requirement already satisfied: zipp>=0.5 in /usr/local/lib/python3.7/dist-packages (from importlib-metadata->transformers~=4.19.4->-r requirements_colab_0826.txt (line 3)) (3.8.1)\n",
            "Requirement already satisfied: oauthlib>=3.0.0 in /usr/local/lib/python3.7/dist-packages (from requests-oauthlib>=0.7.0->google-auth-oauthlib<0.5,>=0.4.1->tensorboard~=2.4->tensorflow~=2.4.4->-r requirements_colab_0826.txt (line 4)) (3.2.0)\n",
            "Requirement already satisfied: dm-tree~=0.1.1 in /usr/local/lib/python3.7/dist-packages (from tensorflow-model-optimization>=0.4.1->tf-models-official~=2.4.0->-r requirements_colab_0826.txt (line 5)) (0.1.7)\n",
            "Requirement already satisfied: kiwisolver>=1.0.1 in /usr/local/lib/python3.7/dist-packages (from matplotlib->tf-models-official~=2.4.0->-r requirements_colab_0826.txt (line 5)) (1.4.4)\n",
            "Requirement already satisfied: cycler>=0.10 in /usr/local/lib/python3.7/dist-packages (from matplotlib->tf-models-official~=2.4.0->-r requirements_colab_0826.txt (line 5)) (0.11.0)\n",
            "Requirement already satisfied: text-unidecode>=1.3 in /usr/local/lib/python3.7/dist-packages (from python-slugify->kaggle>=1.3.9->tf-models-official~=2.4.0->-r requirements_colab_0826.txt (line 5)) (1.3)\n",
            "Requirement already satisfied: typeguard>=2.7 in /usr/local/lib/python3.7/dist-packages (from tensorflow-addons->tf-models-official~=2.4.0->-r requirements_colab_0826.txt (line 5)) (2.7.1)\n",
            "Requirement already satisfied: etils[epath] in /usr/local/lib/python3.7/dist-packages (from tensorflow-datasets->tf-models-official~=2.4.0->-r requirements_colab_0826.txt (line 5)) (0.7.1)\n",
            "Requirement already satisfied: promise in /usr/local/lib/python3.7/dist-packages (from tensorflow-datasets->tf-models-official~=2.4.0->-r requirements_colab_0826.txt (line 5)) (2.3)\n",
            "Requirement already satisfied: importlib-resources in /usr/local/lib/python3.7/dist-packages (from tensorflow-datasets->tf-models-official~=2.4.0->-r requirements_colab_0826.txt (line 5)) (5.9.0)\n",
            "Requirement already satisfied: toml in /usr/local/lib/python3.7/dist-packages (from tensorflow-datasets->tf-models-official~=2.4.0->-r requirements_colab_0826.txt (line 5)) (0.10.2)\n",
            "Requirement already satisfied: dill in /usr/local/lib/python3.7/dist-packages (from tensorflow-datasets->tf-models-official~=2.4.0->-r requirements_colab_0826.txt (line 5)) (0.3.5.1)\n",
            "Requirement already satisfied: tensorflow-metadata in /usr/local/lib/python3.7/dist-packages (from tensorflow-datasets->tf-models-official~=2.4.0->-r requirements_colab_0826.txt (line 5)) (1.9.0)\n",
            "Building wheels for collected packages: py-cpuinfo, wrapt, seqeval\n",
            "  Building wheel for py-cpuinfo (setup.py) ... \u001b[?25l\u001b[?25hdone\n",
            "  Created wheel for py-cpuinfo: filename=py_cpuinfo-8.0.0-py3-none-any.whl size=22257 sha256=7fb188acf26eba38cb6ee4f7439dc575179404308111b9aee540bd272ecc2b94\n",
            "  Stored in directory: /root/.cache/pip/wheels/d2/f1/1f/041add21dc9c4220157f1bd2bd6afe1f1a49524c3396b94401\n",
            "  Building wheel for wrapt (setup.py) ... \u001b[?25l\u001b[?25hdone\n",
            "  Created wheel for wrapt: filename=wrapt-1.12.1-cp37-cp37m-linux_x86_64.whl size=68722 sha256=8908d8474a6baccf245ba89cc9dfe889e24115bfb912d01d58d8a09cd57acb2e\n",
            "  Stored in directory: /root/.cache/pip/wheels/62/76/4c/aa25851149f3f6d9785f6c869387ad82b3fd37582fa8147ac6\n",
            "  Building wheel for seqeval (setup.py) ... \u001b[?25l\u001b[?25hdone\n",
            "  Created wheel for seqeval: filename=seqeval-1.2.2-py3-none-any.whl size=16180 sha256=c895adc32fef103f99cc523f91746bf2dda670c6863475ad9e8873d80620e322\n",
            "  Stored in directory: /root/.cache/pip/wheels/05/96/ee/7cac4e74f3b19e3158dce26a20a1c86b3533c43ec72a549fd7\n",
            "Successfully built py-cpuinfo wrapt seqeval\n",
            "Installing collected packages: typing-extensions, numpy, grpcio, absl-py, wrapt, tensorflow-estimator, h5py, gast, flatbuffers, tokenizers, tf-slim, tensorflow-model-optimization, tensorflow-addons, tensorflow, seqeval, sentencepiece, py-cpuinfo, huggingface-hub, dataclasses, transformers, tf-models-official\n",
            "  Attempting uninstall: typing-extensions\n",
            "    Found existing installation: typing-extensions 4.1.1\n",
            "    Uninstalling typing-extensions-4.1.1:\n",
            "      Successfully uninstalled typing-extensions-4.1.1\n",
            "  Attempting uninstall: numpy\n",
            "    Found existing installation: numpy 1.21.6\n",
            "    Uninstalling numpy-1.21.6:\n",
            "      Successfully uninstalled numpy-1.21.6\n",
            "  Attempting uninstall: grpcio\n",
            "    Found existing installation: grpcio 1.47.0\n",
            "    Uninstalling grpcio-1.47.0:\n",
            "      Successfully uninstalled grpcio-1.47.0\n",
            "  Attempting uninstall: absl-py\n",
            "    Found existing installation: absl-py 1.2.0\n",
            "    Uninstalling absl-py-1.2.0:\n",
            "      Successfully uninstalled absl-py-1.2.0\n",
            "  Attempting uninstall: wrapt\n",
            "    Found existing installation: wrapt 1.14.1\n",
            "    Uninstalling wrapt-1.14.1:\n",
            "      Successfully uninstalled wrapt-1.14.1\n",
            "  Attempting uninstall: tensorflow-estimator\n",
            "    Found existing installation: tensorflow-estimator 2.8.0\n",
            "    Uninstalling tensorflow-estimator-2.8.0:\n",
            "      Successfully uninstalled tensorflow-estimator-2.8.0\n",
            "  Attempting uninstall: h5py\n",
            "    Found existing installation: h5py 3.1.0\n",
            "    Uninstalling h5py-3.1.0:\n",
            "      Successfully uninstalled h5py-3.1.0\n",
            "  Attempting uninstall: gast\n",
            "    Found existing installation: gast 0.5.3\n",
            "    Uninstalling gast-0.5.3:\n",
            "      Successfully uninstalled gast-0.5.3\n",
            "  Attempting uninstall: flatbuffers\n",
            "    Found existing installation: flatbuffers 2.0\n",
            "    Uninstalling flatbuffers-2.0:\n",
            "      Successfully uninstalled flatbuffers-2.0\n",
            "  Attempting uninstall: tensorflow\n",
            "    Found existing installation: tensorflow 2.8.2+zzzcolab20220719082949\n",
            "    Uninstalling tensorflow-2.8.2+zzzcolab20220719082949:\n",
            "      Successfully uninstalled tensorflow-2.8.2+zzzcolab20220719082949\n",
            "\u001b[31mERROR: pip's dependency resolver does not currently take into account all the packages that are installed. This behaviour is the source of the following dependency conflicts.\n",
            "xarray-einstats 0.2.2 requires numpy>=1.21, but you have numpy 1.19.5 which is incompatible.\n",
            "cmdstanpy 1.0.4 requires numpy>=1.21, but you have numpy 1.19.5 which is incompatible.\u001b[0m\n",
            "Successfully installed absl-py-0.15.0 dataclasses-0.6 flatbuffers-1.12 gast-0.3.3 grpcio-1.32.0 h5py-2.10.0 huggingface-hub-0.9.1 numpy-1.19.5 py-cpuinfo-8.0.0 sentencepiece-0.1.97 seqeval-1.2.2 tensorflow-2.4.4 tensorflow-addons-0.17.1 tensorflow-estimator-2.4.0 tensorflow-model-optimization-0.7.3 tf-models-official-2.4.0 tf-slim-1.1.0 tokenizers-0.12.1 transformers-4.19.4 typing-extensions-3.7.4.3 wrapt-1.12.1\n"
          ]
        },
        {
          "output_type": "display_data",
          "data": {
            "application/vnd.colab-display-data+json": {
              "pip_warning": {
                "packages": [
                  "numpy",
                  "typing_extensions"
                ]
              }
            }
          },
          "metadata": {}
        }
      ]
    },
    {
      "cell_type": "markdown",
      "source": [
        "* Click `RESTART RUNTIME` above"
      ],
      "metadata": {
        "id": "VLox7WzH8UNZ"
      },
      "id": "VLox7WzH8UNZ"
    },
    {
      "cell_type": "code",
      "source": [
        "%cd /content/NeuralLog/demo"
      ],
      "metadata": {
        "id": "9XCZJOGA4VKI",
        "outputId": "18317156-b33f-4d62-e5af-64a16092023d",
        "colab": {
          "base_uri": "https://localhost:8080/"
        }
      },
      "id": "9XCZJOGA4VKI",
      "execution_count": 2,
      "outputs": [
        {
          "output_type": "stream",
          "name": "stdout",
          "text": [
            "/content/NeuralLog/demo\n"
          ]
        }
      ]
    },
    {
      "cell_type": "code",
      "source": [
        "!time python NeuralLog.py"
      ],
      "metadata": {
        "id": "O0QzhrarU9Dh",
        "outputId": "ddb1c626-aac4-4fc8-83f7-4eacfc59fb29",
        "colab": {
          "base_uri": "https://localhost:8080/"
        }
      },
      "id": "O0QzhrarU9Dh",
      "execution_count": 3,
      "outputs": [
        {
          "output_type": "stream",
          "name": "stdout",
          "text": [
            "2022-08-26 06:58:15.781683: I tensorflow/stream_executor/platform/default/dso_loader.cc:49] Successfully opened dynamic library libcudart.so.11.0\n",
            "/usr/local/lib/python3.7/dist-packages/tensorflow_addons/utils/ensure_tf_install.py:67: UserWarning: Tensorflow Addons supports using Python ops for all Tensorflow versions above or equal to 2.7.0 and strictly below 2.10.0 (nightly versions are not supported). \n",
            " The versions of TensorFlow you are currently using is 2.4.4 and is not supported. \n",
            "Some things might work, some things might not.\n",
            "If you were to encounter a bug, do not file an issue.\n",
            "If you want to make sure you're using a tested and supported configuration, either change the TensorFlow version or the TensorFlow Addons's version. \n",
            "You can find the compatibility matrix in TensorFlow Addon's readme:\n",
            "https://github.com/tensorflow/addons\n",
            "  UserWarning,\n",
            "2022-08-26 06:58:17.977173: I tensorflow/compiler/jit/xla_cpu_device.cc:41] Not creating XLA devices, tf_xla_enable_xla_devices not set\n",
            "2022-08-26 06:58:17.980008: I tensorflow/stream_executor/platform/default/dso_loader.cc:49] Successfully opened dynamic library libcuda.so.1\n",
            "2022-08-26 06:58:18.054682: I tensorflow/stream_executor/cuda/cuda_gpu_executor.cc:941] successful NUMA node read from SysFS had negative value (-1), but there must be at least one NUMA node, so returning NUMA node zero\n",
            "2022-08-26 06:58:18.055321: I tensorflow/core/common_runtime/gpu/gpu_device.cc:1720] Found device 0 with properties: \n",
            "pciBusID: 0000:00:04.0 name: Tesla T4 computeCapability: 7.5\n",
            "coreClock: 1.59GHz coreCount: 40 deviceMemorySize: 14.75GiB deviceMemoryBandwidth: 298.08GiB/s\n",
            "2022-08-26 06:58:18.055380: I tensorflow/stream_executor/platform/default/dso_loader.cc:49] Successfully opened dynamic library libcudart.so.11.0\n",
            "2022-08-26 06:58:18.117175: I tensorflow/stream_executor/platform/default/dso_loader.cc:49] Successfully opened dynamic library libcublas.so.11\n",
            "2022-08-26 06:58:18.117304: I tensorflow/stream_executor/platform/default/dso_loader.cc:49] Successfully opened dynamic library libcublasLt.so.11\n",
            "2022-08-26 06:58:18.148214: I tensorflow/stream_executor/platform/default/dso_loader.cc:49] Successfully opened dynamic library libcufft.so.10\n",
            "2022-08-26 06:58:18.169322: I tensorflow/stream_executor/platform/default/dso_loader.cc:49] Successfully opened dynamic library libcurand.so.10\n",
            "2022-08-26 06:58:18.385284: I tensorflow/stream_executor/platform/default/dso_loader.cc:49] Successfully opened dynamic library libcusolver.so.10\n",
            "2022-08-26 06:58:18.415738: I tensorflow/stream_executor/platform/default/dso_loader.cc:49] Successfully opened dynamic library libcusparse.so.11\n",
            "2022-08-26 06:58:18.421583: I tensorflow/stream_executor/platform/default/dso_loader.cc:49] Successfully opened dynamic library libcudnn.so.8\n",
            "2022-08-26 06:58:18.421791: I tensorflow/stream_executor/cuda/cuda_gpu_executor.cc:941] successful NUMA node read from SysFS had negative value (-1), but there must be at least one NUMA node, so returning NUMA node zero\n",
            "2022-08-26 06:58:18.422479: I tensorflow/stream_executor/cuda/cuda_gpu_executor.cc:941] successful NUMA node read from SysFS had negative value (-1), but there must be at least one NUMA node, so returning NUMA node zero\n",
            "2022-08-26 06:58:18.423037: I tensorflow/core/common_runtime/gpu/gpu_device.cc:1862] Adding visible gpu devices: 0\n",
            "2022-08-26 06:58:18.423433: I tensorflow/core/platform/cpu_feature_guard.cc:142] This TensorFlow binary is optimized with oneAPI Deep Neural Network Library (oneDNN) to use the following CPU instructions in performance-critical operations:  AVX2 AVX512F FMA\n",
            "To enable them in other operations, rebuild TensorFlow with the appropriate compiler flags.\n",
            "2022-08-26 06:58:18.423563: I tensorflow/compiler/jit/xla_gpu_device.cc:99] Not creating XLA devices, tf_xla_enable_xla_devices not set\n",
            "2022-08-26 06:58:18.423679: I tensorflow/stream_executor/cuda/cuda_gpu_executor.cc:941] successful NUMA node read from SysFS had negative value (-1), but there must be at least one NUMA node, so returning NUMA node zero\n",
            "2022-08-26 06:58:18.424259: I tensorflow/core/common_runtime/gpu/gpu_device.cc:1720] Found device 0 with properties: \n",
            "pciBusID: 0000:00:04.0 name: Tesla T4 computeCapability: 7.5\n",
            "coreClock: 1.59GHz coreCount: 40 deviceMemorySize: 14.75GiB deviceMemoryBandwidth: 298.08GiB/s\n",
            "2022-08-26 06:58:18.424295: I tensorflow/stream_executor/platform/default/dso_loader.cc:49] Successfully opened dynamic library libcudart.so.11.0\n",
            "2022-08-26 06:58:18.424357: I tensorflow/stream_executor/platform/default/dso_loader.cc:49] Successfully opened dynamic library libcublas.so.11\n",
            "2022-08-26 06:58:18.424384: I tensorflow/stream_executor/platform/default/dso_loader.cc:49] Successfully opened dynamic library libcublasLt.so.11\n",
            "2022-08-26 06:58:18.424407: I tensorflow/stream_executor/platform/default/dso_loader.cc:49] Successfully opened dynamic library libcufft.so.10\n",
            "2022-08-26 06:58:18.424430: I tensorflow/stream_executor/platform/default/dso_loader.cc:49] Successfully opened dynamic library libcurand.so.10\n",
            "2022-08-26 06:58:18.424615: I tensorflow/stream_executor/platform/default/dso_loader.cc:49] Successfully opened dynamic library libcusolver.so.10\n",
            "2022-08-26 06:58:18.424658: I tensorflow/stream_executor/platform/default/dso_loader.cc:49] Successfully opened dynamic library libcusparse.so.11\n",
            "2022-08-26 06:58:18.424684: I tensorflow/stream_executor/platform/default/dso_loader.cc:49] Successfully opened dynamic library libcudnn.so.8\n",
            "2022-08-26 06:58:18.424771: I tensorflow/stream_executor/cuda/cuda_gpu_executor.cc:941] successful NUMA node read from SysFS had negative value (-1), but there must be at least one NUMA node, so returning NUMA node zero\n",
            "2022-08-26 06:58:18.425516: I tensorflow/stream_executor/cuda/cuda_gpu_executor.cc:941] successful NUMA node read from SysFS had negative value (-1), but there must be at least one NUMA node, so returning NUMA node zero\n",
            "2022-08-26 06:58:18.426130: I tensorflow/core/common_runtime/gpu/gpu_device.cc:1862] Adding visible gpu devices: 0\n",
            "2022-08-26 06:58:18.426182: I tensorflow/stream_executor/platform/default/dso_loader.cc:49] Successfully opened dynamic library libcudart.so.11.0\n",
            "2022-08-26 06:58:19.061230: I tensorflow/core/common_runtime/gpu/gpu_device.cc:1261] Device interconnect StreamExecutor with strength 1 edge matrix:\n",
            "2022-08-26 06:58:19.061292: I tensorflow/core/common_runtime/gpu/gpu_device.cc:1267]      0 \n",
            "2022-08-26 06:58:19.061309: I tensorflow/core/common_runtime/gpu/gpu_device.cc:1280] 0:   N \n",
            "2022-08-26 06:58:19.061534: I tensorflow/stream_executor/cuda/cuda_gpu_executor.cc:941] successful NUMA node read from SysFS had negative value (-1), but there must be at least one NUMA node, so returning NUMA node zero\n",
            "2022-08-26 06:58:19.062182: I tensorflow/stream_executor/cuda/cuda_gpu_executor.cc:941] successful NUMA node read from SysFS had negative value (-1), but there must be at least one NUMA node, so returning NUMA node zero\n",
            "2022-08-26 06:58:19.062798: I tensorflow/stream_executor/cuda/cuda_gpu_executor.cc:941] successful NUMA node read from SysFS had negative value (-1), but there must be at least one NUMA node, so returning NUMA node zero\n",
            "2022-08-26 06:58:19.063301: W tensorflow/core/common_runtime/gpu/gpu_bfc_allocator.cc:39] Overriding allow_growth setting because the TF_FORCE_GPU_ALLOW_GROWTH environment variable is set. Original config value was 0.\n",
            "2022-08-26 06:58:19.063359: I tensorflow/core/common_runtime/gpu/gpu_device.cc:1406] Created TensorFlow device (/job:localhost/replica:0/task:0/device:GPU:0 with 13968 MB memory) -> physical GPU (device: 0, name: Tesla T4, pci bus id: 0000:00:04.0, compute capability: 7.5)\n",
            "Downloading: 100% 0.99M/0.99M [00:01<00:00, 760kB/s]\n",
            "Downloading: 100% 446k/446k [00:01<00:00, 401kB/s]\n",
            "Downloading: 100% 665/665 [00:00<00:00, 611kB/s]\n",
            "Downloading: 100% 475M/475M [00:37<00:00, 13.4MB/s]\n",
            "2022-08-26 06:59:10.170680: W tensorflow/python/util/util.cc:348] Sets are not currently considered sequences, but this may change in the future, so consider avoiding using them.\n",
            "2022-08-26 06:59:10.252838: I tensorflow/stream_executor/platform/default/dso_loader.cc:49] Successfully opened dynamic library libcublas.so.11\n",
            "2022-08-26 06:59:12.061672: I tensorflow/stream_executor/platform/default/dso_loader.cc:49] Successfully opened dynamic library libcublasLt.so.11\n",
            "All model checkpoint layers were used when initializing TFGPT2Model.\n",
            "\n",
            "All the layers of TFGPT2Model were initialized from the model checkpoint at gpt2.\n",
            "If your task is similar to the task the model of the checkpoint was trained on, you can already use TFGPT2Model for predictions without further training.\n",
            "Downloading: 100% 226k/226k [00:00<00:00, 333kB/s]\n",
            "Downloading: 100% 28.0/28.0 [00:00<00:00, 25.2kB/s]\n",
            "Downloading: 100% 570/570 [00:00<00:00, 490kB/s]\n",
            "Downloading: 100% 511M/511M [00:07<00:00, 71.4MB/s]\n",
            "Some layers from the model checkpoint at bert-base-uncased were not used when initializing TFBertModel: ['nsp___cls', 'mlm___cls']\n",
            "- This IS expected if you are initializing TFBertModel from the checkpoint of a model trained on another task or with another architecture (e.g. initializing a BertForSequenceClassification model from a BertForPreTraining model).\n",
            "- This IS NOT expected if you are initializing TFBertModel from the checkpoint of a model that you expect to be exactly identical (initializing a BertForSequenceClassification model from a BertForSequenceClassification model).\n",
            "All the layers of TFBertModel were initialized from the model checkpoint at bert-base-uncased.\n",
            "If your task is similar to the task the model of the checkpoint was trained on, you can already use TFBertModel for predictions without further training.\n",
            "Downloading: 100% 878k/878k [00:01<00:00, 786kB/s]\n",
            "Downloading: 100% 446k/446k [00:01<00:00, 392kB/s]\n",
            "Downloading: 100% 481/481 [00:00<00:00, 432kB/s]\n",
            "Downloading: 100% 627M/627M [00:10<00:00, 65.2MB/s]\n",
            "Some layers from the model checkpoint at roberta-base were not used when initializing TFRobertaModel: ['lm_head']\n",
            "- This IS expected if you are initializing TFRobertaModel from the checkpoint of a model trained on another task or with another architecture (e.g. initializing a BertForSequenceClassification model from a BertForPreTraining model).\n",
            "- This IS NOT expected if you are initializing TFRobertaModel from the checkpoint of a model that you expect to be exactly identical (initializing a BertForSequenceClassification model from a BertForSequenceClassification model).\n",
            "All the layers of TFRobertaModel were initialized from the model checkpoint at roberta-base.\n",
            "If your task is similar to the task the model of the checkpoint was trained on, you can already use TFRobertaModel for predictions without further training.\n",
            "Loading ../logs/BGL.log\n",
            "Loaded 4747963 lines!\n",
            "Truncation was not explicitly activated but `max_length` is provided a specific value, please use `truncation=True` to explicitly truncate examples to max length. Defaulting to 'longest_first' truncation strategy. If you encode pairs of sequences (GLUE-style) with the tokenizer you can select this strategy more precisely by providing a specific strategy to `truncation`.\n",
            "Loading 99.52% - 580 unique logs\n",
            "last train index: 3798360\n",
            "Total failure logs: 17340\n",
            "Total: 150979 instances, 20254 anomaly, 130725 normal\n",
            "Train: 103500 instances, 17250 anomaly, 86250 normal\n",
            "Test: 47479 instances, 3004 anomaly, 44475 normal\n",
            "\n",
            "Number of training samples: 93150 - Number of validating samples: 10350\n",
            "Model: \"model\"\n",
            "_________________________________________________________________\n",
            "Layer (type)                 Output Shape              Param #   \n",
            "=================================================================\n",
            "input_1 (InputLayer)         [(None, 75, 768)]         0         \n",
            "_________________________________________________________________\n",
            "position_embedding (Position (None, 75, 768)           0         \n",
            "_________________________________________________________________\n",
            "transformer_block (Transform (None, 75, 768)           31491584  \n",
            "_________________________________________________________________\n",
            "global_average_pooling1d (Gl (None, 768)               0         \n",
            "_________________________________________________________________\n",
            "dropout_113 (Dropout)        (None, 768)               0         \n",
            "_________________________________________________________________\n",
            "dense_2 (Dense)              (None, 32)                24608     \n",
            "_________________________________________________________________\n",
            "dropout_114 (Dropout)        (None, 32)                0         \n",
            "_________________________________________________________________\n",
            "dense_3 (Dense)              (None, 2)                 66        \n",
            "=================================================================\n",
            "Total params: 31,516,258\n",
            "Trainable params: 31,516,258\n",
            "Non-trainable params: 0\n",
            "_________________________________________________________________\n",
            "None\n",
            "/usr/local/lib/python3.7/dist-packages/tensorflow/python/keras/engine/training.py:1839: UserWarning: `Model.fit_generator` is deprecated and will be removed in a future version. Please use `Model.fit`, which supports generators.\n",
            "  warnings.warn('`Model.fit_generator` is deprecated and '\n",
            "2022-08-26 07:03:57.722368: I tensorflow/compiler/mlir/mlir_graph_optimization_pass.cc:116] None of the MLIR optimization passes are enabled (registered 2)\n",
            "2022-08-26 07:03:57.728862: I tensorflow/core/platform/profile_utils/cpu_utils.cc:112] CPU Frequency: 2000200000 Hz\n",
            "Epoch 1/10\n",
            "363/363 [==============================] - 402s 1s/step - loss: 0.7854 - accuracy: 0.5199 - val_loss: 0.3075 - val_accuracy: 0.8325\n",
            "\n",
            "Epoch 00001: val_accuracy improved from -inf to 0.83252, saving model to bgl_transformer.hdf5\n",
            "Epoch 2/10\n",
            "363/363 [==============================] - 400s 1s/step - loss: 0.2620 - accuracy: 0.8867 - val_loss: 0.1087 - val_accuracy: 0.9737\n",
            "\n",
            "Epoch 00002: val_accuracy improved from 0.83252 to 0.97373, saving model to bgl_transformer.hdf5\n",
            "Epoch 3/10\n",
            "363/363 [==============================] - 398s 1s/step - loss: 0.1043 - accuracy: 0.9724 - val_loss: 0.0687 - val_accuracy: 0.9842\n",
            "\n",
            "Epoch 00003: val_accuracy improved from 0.97373 to 0.98418, saving model to bgl_transformer.hdf5\n",
            "Epoch 4/10\n",
            "363/363 [==============================] - 399s 1s/step - loss: 0.0670 - accuracy: 0.9826 - val_loss: 0.0554 - val_accuracy: 0.9815\n",
            "\n",
            "Epoch 00004: val_accuracy did not improve from 0.98418\n",
            "Epoch 5/10\n",
            "363/363 [==============================] - 399s 1s/step - loss: 0.0460 - accuracy: 0.9864 - val_loss: 0.0234 - val_accuracy: 0.9934\n",
            "\n",
            "Epoch 00005: val_accuracy improved from 0.98418 to 0.99336, saving model to bgl_transformer.hdf5\n",
            "Epoch 6/10\n",
            "363/363 [==============================] - 398s 1s/step - loss: 0.0253 - accuracy: 0.9925 - val_loss: 0.0171 - val_accuracy: 0.9948\n",
            "\n",
            "Epoch 00006: val_accuracy improved from 0.99336 to 0.99482, saving model to bgl_transformer.hdf5\n",
            "Epoch 7/10\n",
            "363/363 [==============================] - 398s 1s/step - loss: 0.0169 - accuracy: 0.9946 - val_loss: 0.0110 - val_accuracy: 0.9966\n",
            "\n",
            "Epoch 00007: val_accuracy improved from 0.99482 to 0.99658, saving model to bgl_transformer.hdf5\n",
            "Epoch 8/10\n",
            "363/363 [==============================] - 398s 1s/step - loss: 0.0118 - accuracy: 0.9962 - val_loss: 0.0105 - val_accuracy: 0.9975\n",
            "\n",
            "Epoch 00008: val_accuracy improved from 0.99658 to 0.99746, saving model to bgl_transformer.hdf5\n",
            "Epoch 9/10\n",
            "363/363 [==============================] - 398s 1s/step - loss: 0.0100 - accuracy: 0.9970 - val_loss: 0.0050 - val_accuracy: 0.9986\n",
            "\n",
            "Epoch 00009: val_accuracy improved from 0.99746 to 0.99863, saving model to bgl_transformer.hdf5\n",
            "Epoch 10/10\n",
            "363/363 [==============================] - 399s 1s/step - loss: 0.0060 - accuracy: 0.9979 - val_loss: 0.0071 - val_accuracy: 0.9974\n",
            "\n",
            "Epoch 00010: val_accuracy did not improve from 0.99863\n",
            "/usr/local/lib/python3.7/dist-packages/tensorflow/python/keras/engine/training.py:1900: UserWarning: `Model.predict_generator` is deprecated and will be removed in a future version. Please use `Model.predict`, which supports generators.\n",
            "  warnings.warn('`Model.predict_generator` is deprecated and '\n",
            "/bin/bash: line 1:   298 Killed                  python NeuralLog.py\n",
            "\n",
            "real\t72m30.062s\n",
            "user\t57m12.198s\n",
            "sys\t3m58.542s\n"
          ]
        }
      ]
    },
    {
      "cell_type": "code",
      "source": [],
      "metadata": {
        "id": "pQwx8F49FcxZ"
      },
      "id": "pQwx8F49FcxZ",
      "execution_count": null,
      "outputs": []
    }
  ],
  "metadata": {
    "kernelspec": {
      "display_name": "Python 3 (ipykernel)",
      "language": "python",
      "name": "python3"
    },
    "language_info": {
      "codemirror_mode": {
        "name": "ipython",
        "version": 3
      },
      "file_extension": ".py",
      "mimetype": "text/x-python",
      "name": "python",
      "nbconvert_exporter": "python",
      "pygments_lexer": "ipython3",
      "version": "3.8.12"
    },
    "colab": {
      "provenance": [],
      "include_colab_link": true
    },
    "gpuClass": "standard",
    "accelerator": "GPU"
  },
  "nbformat": 4,
  "nbformat_minor": 5
}