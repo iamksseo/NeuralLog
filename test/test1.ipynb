{
 "cells": [
  {
   "cell_type": "markdown",
   "id": "62873149",
   "metadata": {},
   "source": [
    "```\n",
    "@INPROCEEDINGS{9534113,\n",
    "  author={Guo, Haixuan and Yuan, Shuhan and Wu, Xintao},\n",
    "  booktitle={2021 International Joint Conference on Neural Networks (IJCNN)}, \n",
    "  title={LogBERT: Log Anomaly Detection via BERT}, \n",
    "  year={2021},\n",
    "  volume={},\n",
    "  number={},\n",
    "  pages={1-8},\n",
    "  doi={10.1109/IJCNN52387.2021.9534113}}\n",
    "  ```"
   ]
  },
  {
   "cell_type": "code",
   "execution_count": 1,
   "id": "36a722fb",
   "metadata": {},
   "outputs": [
    {
     "name": "stdout",
     "output_type": "stream",
     "text": [
      "Test1\n"
     ]
    }
   ],
   "source": [
    "print(\"Test1\")"
   ]
  },
  {
   "cell_type": "code",
   "execution_count": null,
   "id": "c655f68c",
   "metadata": {},
   "outputs": [],
   "source": []
  }
 ],
 "metadata": {
  "kernelspec": {
   "display_name": "Python 3 (ipykernel)",
   "language": "python",
   "name": "python3"
  },
  "language_info": {
   "codemirror_mode": {
    "name": "ipython",
    "version": 3
   },
   "file_extension": ".py",
   "mimetype": "text/x-python",
   "name": "python",
   "nbconvert_exporter": "python",
   "pygments_lexer": "ipython3",
   "version": "3.8.12"
  }
 },
 "nbformat": 4,
 "nbformat_minor": 5
}
