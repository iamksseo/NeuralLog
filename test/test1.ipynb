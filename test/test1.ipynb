{
  "cells": [
    {
      "cell_type": "markdown",
      "metadata": {
        "id": "view-in-github",
        "colab_type": "text"
      },
      "source": [
        "<a href=\"https://colab.research.google.com/github/iamksseo/NeuralLog/blob/main/test/test1.ipynb\" target=\"_parent\"><img src=\"https://colab.research.google.com/assets/colab-badge.svg\" alt=\"Open In Colab\"/></a>"
      ]
    },
    {
      "cell_type": "markdown",
      "source": [
        "```\n",
        "@inproceedings{le2021log,\n",
        "  title={Log-based anomaly detection without log parsing},\n",
        "  author={Le, Van-Hoang and Zhang, Hongyu},\n",
        "  booktitle={2021 36th IEEE/ACM International Conference on Automated Software Engineering (ASE)},\n",
        "  pages={492--504},\n",
        "  year={2021},\n",
        "  organization={IEEE}\n",
        "}\n",
        "\n",
        "@INPROCEEDINGS{9534113,\n",
        "  author={Guo, Haixuan and Yuan, Shuhan and Wu, Xintao},\n",
        "  booktitle={2021 International Joint Conference on Neural Networks (IJCNN)}, \n",
        "  title={LogBERT: Log Anomaly Detection via BERT}, \n",
        "  year={2021},\n",
        "  volume={},\n",
        "  number={},\n",
        "  pages={1-8},\n",
        "  doi={10.1109/IJCNN52387.2021.9534113}\n",
        "}\n",
        "```"
      ],
      "metadata": {
        "id": "tEY4vn6nGn3p"
      },
      "id": "tEY4vn6nGn3p"
    },
    {
      "cell_type": "code",
      "execution_count": null,
      "id": "36a722fb",
      "metadata": {
        "id": "36a722fb",
        "outputId": "1e15435f-8ce9-4e93-dae9-8033966de34f"
      },
      "outputs": [
        {
          "name": "stdout",
          "output_type": "stream",
          "text": [
            "Test1\n"
          ]
        }
      ],
      "source": [
        "print(\"Test1\")"
      ]
    },
    {
      "cell_type": "code",
      "execution_count": null,
      "id": "c655f68c",
      "metadata": {
        "id": "c655f68c",
        "outputId": "dac73197-877e-4b45-ff61-e8d0cd17290f",
        "colab": {
          "base_uri": "https://localhost:8080/"
        }
      },
      "outputs": [
        {
          "output_type": "stream",
          "name": "stdout",
          "text": [
            "Test2\n"
          ]
        }
      ],
      "source": [
        "print(\"Test2\")"
      ]
    },
    {
      "cell_type": "code",
      "source": [],
      "metadata": {
        "id": "4WgiDInzEYHP"
      },
      "id": "4WgiDInzEYHP",
      "execution_count": null,
      "outputs": []
    }
  ],
  "metadata": {
    "kernelspec": {
      "display_name": "Python 3 (ipykernel)",
      "language": "python",
      "name": "python3"
    },
    "language_info": {
      "codemirror_mode": {
        "name": "ipython",
        "version": 3
      },
      "file_extension": ".py",
      "mimetype": "text/x-python",
      "name": "python",
      "nbconvert_exporter": "python",
      "pygments_lexer": "ipython3",
      "version": "3.8.12"
    },
    "colab": {
      "provenance": [],
      "include_colab_link": true
    }
  },
  "nbformat": 4,
  "nbformat_minor": 5
}